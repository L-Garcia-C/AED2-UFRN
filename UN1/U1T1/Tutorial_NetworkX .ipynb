{
 "cells": [
  {
   "cell_type": "markdown",
   "id": "5e6b69e3",
   "metadata": {},
   "source": [
    "# Tutorial Prático: NetworkX\n",
    "\n",
    "Este notebook apresenta um tutorial prático sobre a biblioteca NetworkX, usada para criar, visualizar e analisar grafos no Python.\n",
    "\n",
    "### Objetivos:\n",
    "- Criar grafos simples e direcionais\n",
    "- Adicionar pesos às arestas\n",
    "- Visualizar grafos usando Matplotlib\n",
    "- Calcular métricas básicas de análise de grafos\n",
    "\n",
    "**Documentação Oficial:** [NetworkX](https://networkx.org/)"
   ]
  },
  {
   "cell_type": "code",
   "execution_count": null,
   "id": "f1c87127",
   "metadata": {},
   "outputs": [],
   "source": [
    "import networkx as nx\n",
    "import matplotlib.pyplot as plt\n",
    "import numpy as np\n",
    "\n",
    "# Configuração para visualização\n",
    "%matplotlib inline"
   ]
  },
  {
   "cell_type": "markdown",
   "id": "10ef4e00",
   "metadata": {},
   "source": [
    "## Criando um Grafo Simples\n",
    "\n",
    "Vamos começar criando um grafo não direcionado e adicionando nós e arestas."
   ]
  },
  {
   "cell_type": "code",
   "execution_count": null,
   "id": "daa1b161",
   "metadata": {},
   "outputs": [],
   "source": [
    "# Criando um grafo\n",
    "G = nx.Graph()\n",
    "\n",
    "# Adicionando nós\n",
    "G.add_nodes_from([1, 2, 3, 4])\n",
    "\n",
    "# Adicionando arestas\n",
    "G.add_edges_from([(1, 2), (1, 3), (2, 4), (3, 4)])\n",
    "\n",
    "# Desenhando o grafo\n",
    "plt.figure(figsize=(5,5))\n",
    "nx.draw(G, with_labels=True, node_color='lightblue', edge_color='gray', node_size=2000, font_size=15)\n",
    "plt.show()"
   ]
  },
  {
   "cell_type": "markdown",
   "id": "16e7b7dd",
   "metadata": {},
   "source": [
    "## Criando um Grafo Direcionado\n",
    "\n",
    "Agora, criaremos um grafo direcionado (digraph) onde as conexões entre os nós têm um sentido específico."
   ]
  },
  {
   "cell_type": "code",
   "execution_count": null,
   "id": "2b3386ec",
   "metadata": {},
   "outputs": [],
   "source": [
    "# Criando um grafo direcionado\n",
    "DG = nx.DiGraph()\n",
    "\n",
    "# Adicionando nós\n",
    "DG.add_nodes_from([1, 2, 3, 4])\n",
    "\n",
    "# Adicionando arestas direcionais\n",
    "DG.add_edges_from([(1, 2), (2, 3), (3, 4), (4, 1), (2, 4)])\n",
    "\n",
    "# Desenhando o grafo\n",
    "plt.figure(figsize=(5,5))\n",
    "nx.draw(DG, with_labels=True, node_color='lightcoral', edge_color='black',         node_size=2000, font_size=15, arrows=True)\n",
    "plt.show()"
   ]
  },
  {
   "cell_type": "markdown",
   "id": "51cbdf55",
   "metadata": {},
   "source": [
    "## Adicionando Pesos às Arestas\n",
    "\n",
    "Podemos associar pesos às arestas de um grafo para representar diferentes intensidades de conexão."
   ]
  },
  {
   "cell_type": "code",
   "execution_count": null,
   "id": "232cef11",
   "metadata": {},
   "outputs": [],
   "source": [
    "# Criando um grafo com pesos nas arestas\n",
    "WG = nx.Graph()\n",
    "\n",
    "# Adicionando nós e arestas com pesos\n",
    "WG.add_weighted_edges_from([(1, 2, 2.5), (1, 3, 1.2), (2, 4, 3.8), (3, 4, 2.1)])\n",
    "\n",
    "# Desenhando o grafo com pesos\n",
    "plt.figure(figsize=(5,5))\n",
    "pos = nx.spring_layout(WG)  # Layout para melhor visualização\n",
    "nx.draw(WG, pos, with_labels=True, node_color='lightgreen', edge_color='black',         node_size=2000, font_size=15)\n",
    "edge_labels = nx.get_edge_attributes(WG, 'weight')\n",
    "nx.draw_networkx_edge_labels(WG, pos, edge_labels=edge_labels)\n",
    "plt.show()"
   ]
  },
  {
   "cell_type": "markdown",
   "id": "3fcedcf4",
   "metadata": {},
   "source": [
    "## Métricas Básicas de Grafos\n",
    "\n",
    "Podemos calcular algumas métricas importantes para analisar os grafos."
   ]
  },
  {
   "cell_type": "code",
   "execution_count": null,
   "id": "df5b0763",
   "metadata": {},
   "outputs": [],
   "source": [
    "# Cálculo do grau dos nós\n",
    "grau_nos = dict(WG.degree())\n",
    "print('Grau dos nós:', grau_nos)\n",
    "\n",
    "# Cálculo da centralidade de grau\n",
    "centralidade = nx.degree_centrality(WG)\n",
    "print('Centralidade de grau:', centralidade)\n",
    "\n",
    "# Encontrar componentes conexas\n",
    "componentes = list(nx.connected_components(WG))\n",
    "print('Componentes conexas:', componentes)"
   ]
  }
 ],
 "metadata": {},
 "nbformat": 4,
 "nbformat_minor": 5
}
